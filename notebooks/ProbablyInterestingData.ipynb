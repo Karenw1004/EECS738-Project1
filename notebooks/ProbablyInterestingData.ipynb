{
  "nbformat": 4,
  "nbformat_minor": 0,
  "metadata": {
    "colab": {
      "name": "ProbablyInterestingData.ipynb",
      "provenance": [],
      "toc_visible": true,
      "mount_file_id": "1zkmP9GKPRXgs8pnScAOukSGIxpGKnsoi",
      "authorship_tag": "ABX9TyPEp2QXBFsq88XSZzVM2W6Z",
      "include_colab_link": true
    },
    "kernelspec": {
      "name": "python3",
      "display_name": "Python 3"
    }
  },
  "cells": [
    {
      "cell_type": "markdown",
      "metadata": {
        "id": "view-in-github",
        "colab_type": "text"
      },
      "source": [
        "<a href=\"https://colab.research.google.com/github/Karenw1004/EECS738-Project1/blob/master/ProbablyInterestingData.ipynb\" target=\"_parent\"><img src=\"https://colab.research.google.com/assets/colab-badge.svg\" alt=\"Open In Colab\"/></a>"
      ]
    },
    {
      "cell_type": "markdown",
      "metadata": {
        "id": "u-2nS6somMyv"
      },
      "source": [
        "# Probably Interesting Data\n",
        "## Distribution estimation\n",
        "1. Set up a new git repository in your GitHub account\n",
        "2. Pick two datasets from\n",
        "https://www.kaggle.com/uciml/datasets\n",
        "3. Choose a programming language (Python, C/C++, Java)\n",
        "4. Formulate ideas on how machine learning can be used to\n",
        "model distributions within the dataset\n",
        "5. Build a heuristic and/or algorithm to model the data using\n",
        "mixture models of probability distributions\n",
        "programmatically\n",
        "6. Document your process and results\n",
        "7. Commit your source code, documentation and other\n",
        "supporting files to the git repository in GitHub\n"
      ]
    },
    {
      "cell_type": "markdown",
      "metadata": {
        "id": "1l_8YFN3W8xj"
      },
      "source": [
        ""
      ]
    }
  ]
}